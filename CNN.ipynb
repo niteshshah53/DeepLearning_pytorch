{
 "cells": [
  {
   "cell_type": "code",
   "execution_count": null,
   "id": "cb0a74c1-02d4-4a74-96ae-926f18f2028b",
   "metadata": {},
   "outputs": [],
   "source": [
    "import os\n",
    "import cv2\n",
    "import numpy as np\n",
    "from tqdm import tqdm\n",
    "\n",
    "REBUILD_DATA = True\n",
    "\n",
    "class DogsvsCats():\n",
    "    IMG_SIZE = 50\n",
    "    CATS = \"PetImages/Cats\"\n",
    "    DOGS = \"PetImages/Dogs\"\n",
    "    LABELS = {CATS: 0, DOGS: 1}"
   ]
  }
 ],
 "metadata": {
  "kernelspec": {
   "display_name": "Python 3 (ipykernel)",
   "language": "python",
   "name": "python3"
  },
  "language_info": {
   "codemirror_mode": {
    "name": "ipython",
    "version": 3
   },
   "file_extension": ".py",
   "mimetype": "text/x-python",
   "name": "python",
   "nbconvert_exporter": "python",
   "pygments_lexer": "ipython3",
   "version": "3.11.2"
  }
 },
 "nbformat": 4,
 "nbformat_minor": 5
}
